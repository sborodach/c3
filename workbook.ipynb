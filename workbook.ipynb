{
 "cells": [
  {
   "cell_type": "code",
   "execution_count": 16,
   "id": "59ebdcde",
   "metadata": {},
   "outputs": [],
   "source": [
    "import pandas as pd\n",
    "from time import time\n",
    "from src.MIND import MINDSmallData\n",
    "from src.recommender import ContentRecommender\n",
    "import numpy as np\n",
    "import collections\n",
    "\n",
    "from warnings import simplefilter\n",
    "simplefilter(action='ignore', category=FutureWarning) # ignore all future warnings"
   ]
  },
  {
   "cell_type": "markdown",
   "id": "c6aea010",
   "metadata": {},
   "source": [
    "- All impression ID's are unique. 32% of user id's are unique and the maximum number of impressions recorded for a single user is 62, likewise with the max number of history appearences—they're the same for a given user.\n",
    "\n",
    "- There are 481 instances of a single impression (that being one made comprised of the same articles). The distribution of reactions is as follows: 35 clicked on the first and not the second; 446 clicked on the second and not the first. Meanwhile, noone clicked on both. So what are the two articles?\n",
    "    1. Charles Rogers, former Michigan State football, Detroit Lions star, dead at 38  \n",
    "    and  \n",
    "    2. Porsche launches into second story of New Jersey building, killing 2 LOL  \n",
    "    \n"
   ]
  },
  {
   "cell_type": "code",
   "execution_count": null,
   "id": "4977f994",
   "metadata": {},
   "outputs": [],
   "source": []
  },
  {
   "cell_type": "code",
   "execution_count": null,
   "id": "4d1df2ac",
   "metadata": {},
   "outputs": [],
   "source": []
  },
  {
   "cell_type": "code",
   "execution_count": null,
   "id": "ff621521",
   "metadata": {},
   "outputs": [],
   "source": []
  }
 ],
 "metadata": {
  "kernelspec": {
   "display_name": "Python 3",
   "language": "python",
   "name": "python3"
  },
  "language_info": {
   "codemirror_mode": {
    "name": "ipython",
    "version": 3
   },
   "file_extension": ".py",
   "mimetype": "text/x-python",
   "name": "python",
   "nbconvert_exporter": "python",
   "pygments_lexer": "ipython3",
   "version": "3.7.9"
  }
 },
 "nbformat": 4,
 "nbformat_minor": 5
}
