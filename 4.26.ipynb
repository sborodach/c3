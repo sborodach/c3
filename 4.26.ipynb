{
 "cells": [
  {
   "cell_type": "code",
   "execution_count": 1,
   "id": "bfbad03a",
   "metadata": {},
   "outputs": [],
   "source": [
    "from src.recommender import ContentRecommender\n",
    "from src.MIND import MINDSmallData\n",
    "from src.feature_matrix import CreateFeatureMatrix\n",
    "import pandas as pd\n",
    "import numpy as np\n",
    "import matplotlib.pyplot as plt\n",
    "from sklearn.feature_extraction.text import TfidfVectorizer\n",
    "from prettytable import PrettyTable\n",
    "\n",
    "from warnings import simplefilter\n",
    "simplefilter(action='ignore', category=FutureWarning) # ignore all future warnings"
   ]
  },
  {
   "cell_type": "code",
   "execution_count": 2,
   "id": "ed9f75fe",
   "metadata": {},
   "outputs": [],
   "source": [
    "news_data = pd.read_csv('../data/news_fresh.csv')\n",
    "user_data = pd.read_csv('../data/user_data.csv')\n",
    "feature_matrix = pd.read_csv('../data/LDA_matrix.csv')"
   ]
  },
  {
   "cell_type": "code",
   "execution_count": 24,
   "id": "e4e94efb",
   "metadata": {},
   "outputs": [],
   "source": [
    "user_id = user_data[user_data['Read Articles'].apply(lambda x: len(x) > 300)].iloc[0][1]"
   ]
  },
  {
   "cell_type": "code",
   "execution_count": 25,
   "id": "ae22cf7a",
   "metadata": {},
   "outputs": [],
   "source": [
    "recommender = ContentRecommender(news_data, user_data, feature_matrix)\n",
    "rec_ind = recommender.recommend(user_id)"
   ]
  },
  {
   "cell_type": "code",
   "execution_count": 26,
   "id": "5e78df09",
   "metadata": {},
   "outputs": [
    {
     "data": {
      "text/plain": [
       "['Frustrated Antonio Brown has active morning on Twitter',\n",
       " \"If Jason Garrett would be in high demand, why haven't the Cowboys extended him?\",\n",
       " \"Lori Loughlin Is 'Absolutely Terrified' After Being Hit With New Charge\",\n",
       " 'Charlize Theron & Margot Robbie Have Some Face Time in L.A., Plus Priyanka Chopra Jonas, Will Smith & More',\n",
       " \"Eagles' Fletcher Cox chased would-be assailant off with shotgun\",\n",
       " \"'Wheel Of Fortune' Guest Delivers Hilarious, Off The Rails Introduction\",\n",
       " 'Can Drinking Beer Wreck Your Weight-Loss Progress From Your Workouts?',\n",
       " 'High school sports with highest concussion rates revealed in new study',\n",
       " 'Felicity Huffman Is Scheduled to Be Released from Prison on October 27 After Serving 13 Days',\n",
       " 'Something fishy happened in that Texans-Chiefs call',\n",
       " '420 Pounds Of Marijuana Found In Truck At Darien Rest Stop: CSP',\n",
       " 'Former NFL lineman Justin Bannan arrested for attempted murder',\n",
       " 'Deer fatally attacks hunter who shot him',\n",
       " 'Lakers and Nets players lost money on broken agreements in China',\n",
       " 'Most Popular Album the Year You Were Born',\n",
       " \"Gronkowski suggests that he'll unretire if NFL legalizes CBD\",\n",
       " 'Eliud Kipchoge runs 1:59 marathon, first to break 2 hours',\n",
       " 'Rising California gasoline prices highlight growing divide in US',\n",
       " 'Lindsay Lohan denies shading Miley Cyrus and Cody Simpson',\n",
       " 'NFL world reacts to officials handing Packers win over Lions']"
      ]
     },
     "execution_count": 26,
     "metadata": {},
     "output_type": "execute_result"
    }
   ],
   "source": [
    "history = user_data[user_data['Read Articles'].apply(lambda x: len(x) > 300)].iloc[0,2].split(' ')[:20]\n",
    "list(news_data['title'][news_data['code'].isin(history)].values)"
   ]
  },
  {
   "cell_type": "code",
   "execution_count": 27,
   "id": "0ef0c6ed",
   "metadata": {},
   "outputs": [
    {
     "data": {
      "text/plain": [
       "array(['Louisiana editorial roundup',\n",
       "       \"Touchdown proposal: Die-hard Browns fan gets a W and a ring after Sunday's game\",\n",
       "       \"Aaron Donald's homecoming\",\n",
       "       'Half-Court Shots Earn 2 College Students Free Tuition: See Videos',\n",
       "       'Magic unveil new city uniforms with splash of orange, anthracite',\n",
       "       \"The best story in the Texas high school football playoffs is Fort Worth's North Side\",\n",
       "       \"'Free Chase Young': Criticism of the NCAA trends on social media after Ohio State star's suspension\",\n",
       "       'Mitch Albom: Charles Rogers was a flash of talent and challenges',\n",
       "       \"Lexington's Lacee Bethea's hard work takes her to Bowling Green State University\",\n",
       "       'Aussie Dwight Ritchie dies after taking body blow in sparring',\n",
       "       \"Friday's Mashup: Twitter reacts after Tom Brady tweets he and Rob Gronkowski are 'reunited'\",\n",
       "       \"Robert Sarver gushes about Phoenix Suns' strong start, new $45 million practice facility\",\n",
       "       \"Questions remain over Grand Rapids Drive's future, and owner not changing his stance\",\n",
       "       'This youth football team has chance at a national title -- but they need your help',\n",
       "       \"Diggin' Deep on UFC Moscow: Main card preview\",\n",
       "       'This youth football team has chance at a national title -- but they need your help',\n",
       "       'Saints Head Coach Sean Payton Engaged',\n",
       "       'New Rochelle Schools Superintendent Under Fire After Suspending Varsity Football Coach',\n",
       "       'Juwan Howard, Michigan basketball program offer support for Cassius Winston amid tragedy',\n",
       "       \"Zachary Winston's death 'devastating,' says U-D Jesuit basketball coach\"],\n",
       "      dtype=object)"
      ]
     },
     "execution_count": 27,
     "metadata": {},
     "output_type": "execute_result"
    }
   ],
   "source": [
    "news_data['title'].iloc[rec_ind].values"
   ]
  },
  {
   "cell_type": "code",
   "execution_count": 48,
   "id": "b80b630c",
   "metadata": {},
   "outputs": [
    {
     "name": "stderr",
     "output_type": "stream",
     "text": [
      "/Users/stevenborodach/opt/anaconda3/lib/python3.7/site-packages/ipykernel_launcher.py:3: UserWarning: FixedFormatter should only be used together with FixedLocator\n",
      "  This is separate from the ipykernel package so we can avoid doing imports until\n"
     ]
    },
    {
     "data": {
      "text/plain": [
       "''"
      ]
     },
     "execution_count": 48,
     "metadata": {},
     "output_type": "execute_result"
    },
    {
     "data": {
      "image/png": "[encoded data removed]",
      "text/plain": [
       "<Figure size 360x360 with 1 Axes>"
      ]
     },
     "metadata": {},
     "output_type": "display_data"
    }
   ],
   "source": [
    "fig, ax = plt.subplots(figsize=(5,5))\n",
    "ax.bar([1,2,3], [.3,.5,.2], width = 0.4, color=['red', 'blue', 'green'])\n",
    "ax.set_xticklabels(['Art', 'Politics', 'Law Enforcement'])\n",
    "ax.set_xticks([1,2,3])\n",
    "plt.savefig('plt.png')\n",
    ";\n"
   ]
  },
  {
   "cell_type": "code",
   "execution_count": null,
   "id": "4306bbcc",
   "metadata": {},
   "outputs": [],
   "source": []
  }
 ],
 "metadata": {
  "kernelspec": {
   "display_name": "Python 3",
   "language": "python",
   "name": "python3"
  },
  "language_info": {
   "codemirror_mode": {
    "name": "ipython",
    "version": 3
   },
   "file_extension": ".py",
   "mimetype": "text/x-python",
   "name": "python",
   "nbconvert_exporter": "python",
   "pygments_lexer": "ipython3",
   "version": "3.7.9"
  }
 },
 "nbformat": 4,
 "nbformat_minor": 5
}
