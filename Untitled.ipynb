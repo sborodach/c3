{
 "cells": [
  {
   "cell_type": "code",
   "execution_count": 3,
   "id": "f0f30c77",
   "metadata": {},
   "outputs": [],
   "source": [
    "from src.feature_matrix import CreateFeatureMatrix\n",
    "import pandas as pd\n",
    "from src.mind import MINDSmallData"
   ]
  },
  {
   "cell_type": "code",
   "execution_count": 4,
   "id": "91c9fd8b",
   "metadata": {},
   "outputs": [],
   "source": [
    "data = ['This is a tool for building a content recommender',\n",
    "        'Content recommenders can be challenging to evaluate',\n",
    "        'Sports readers typically enjoy sports recommendations',\n",
    "       'MIND is a userful dataset for studying recommender',\n",
    "       'medium.com is difficult to scrape from']\n",
    "create = CreateFeatureMatrix(data, MIND=False, n_components=2)"
   ]
  },
  {
   "cell_type": "code",
   "execution_count": null,
   "id": "438a8465",
   "metadata": {},
   "outputs": [],
   "source": []
  },
  {
   "cell_type": "code",
   "execution_count": 5,
   "id": "b182e3f6",
   "metadata": {},
   "outputs": [],
   "source": [
    "create.featurize()"
   ]
  },
  {
   "cell_type": "code",
   "execution_count": 6,
   "id": "6910be85",
   "metadata": {},
   "outputs": [
    {
     "data": {
      "text/plain": [
       "array([[0.49996628, 0.50003372],\n",
       "       [0.25936291, 0.74063709],\n",
       "       [0.5       , 0.5       ],\n",
       "       [0.7406295 , 0.2593705 ],\n",
       "       [0.5       , 0.5       ]])"
      ]
     },
     "execution_count": 6,
     "metadata": {},
     "output_type": "execute_result"
    }
   ],
   "source": [
    "create.feature_matrix"
   ]
  },
  {
   "cell_type": "code",
   "execution_count": 4,
   "id": "51d86e04",
   "metadata": {},
   "outputs": [],
   "source": [
    "mind = MINDSmallData('../data/news.tsv', '../data/behaviors.tsv')"
   ]
  },
  {
   "cell_type": "code",
   "execution_count": 5,
   "id": "10966e4e",
   "metadata": {},
   "outputs": [
    {
     "name": "stderr",
     "output_type": "stream",
     "text": [
      "/Users/stevenborodach/opt/anaconda3/lib/python3.7/site-packages/numpy/core/_asarray.py:102: VisibleDeprecationWarning: Creating an ndarray from ragged nested sequences (which is a list-or-tuple of lists-or-tuples-or ndarrays with different lengths or shapes) is deprecated. If you meant to do this, you must specify 'dtype=object' when creating the ndarray.\n",
      "  return array(a, dtype, copy=False, order=order)\n"
     ]
    }
   ],
   "source": [
    "mind.clean_user_data()"
   ]
  },
  {
   "cell_type": "code",
   "execution_count": 18,
   "id": "fb6b9eb6",
   "metadata": {},
   "outputs": [
    {
     "data": {
      "text/html": [
       "<div>\n",
       "<style scoped>\n",
       "    .dataframe tbody tr th:only-of-type {\n",
       "        vertical-align: middle;\n",
       "    }\n",
       "\n",
       "    .dataframe tbody tr th {\n",
       "        vertical-align: top;\n",
       "    }\n",
       "\n",
       "    .dataframe thead th {\n",
       "        text-align: right;\n",
       "    }\n",
       "</style>\n",
       "<table border=\"1\" class=\"dataframe\">\n",
       "  <thead>\n",
       "    <tr style=\"text-align: right;\">\n",
       "      <th></th>\n",
       "      <th>User ID</th>\n",
       "      <th>Read Articles</th>\n",
       "    </tr>\n",
       "  </thead>\n",
       "  <tbody>\n",
       "    <tr>\n",
       "      <th>107690</th>\n",
       "      <td>U100</td>\n",
       "      <td>N20121 N33998 N45954 N55743 N50095 N18870 N534...</td>\n",
       "    </tr>\n",
       "    <tr>\n",
       "      <th>46639</th>\n",
       "      <td>U1000</td>\n",
       "      <td>N29641 N1789 N41244 N29739 N7670 N58656 N53875</td>\n",
       "    </tr>\n",
       "    <tr>\n",
       "      <th>60202</th>\n",
       "      <td>U10001</td>\n",
       "      <td>N47937 N51706 N56447 N61319 N27644 N18030 N272...</td>\n",
       "    </tr>\n",
       "    <tr>\n",
       "      <th>46692</th>\n",
       "      <td>U10003</td>\n",
       "      <td>N39074 N26619 N31431 N1282 N61052 N41668 N5083...</td>\n",
       "    </tr>\n",
       "    <tr>\n",
       "      <th>46854</th>\n",
       "      <td>U10008</td>\n",
       "      <td>N23912 N30148 N46754 N33117 N9619 N36526 N4449...</td>\n",
       "    </tr>\n",
       "    <tr>\n",
       "      <th>...</th>\n",
       "      <td>...</td>\n",
       "      <td>...</td>\n",
       "    </tr>\n",
       "    <tr>\n",
       "      <th>142654</th>\n",
       "      <td>U9993</td>\n",
       "      <td>N47458 N14114 N22257 N30648</td>\n",
       "    </tr>\n",
       "    <tr>\n",
       "      <th>104405</th>\n",
       "      <td>U9995</td>\n",
       "      <td>N61471 N61704 N49103 N63554 N44399 N32117 N218...</td>\n",
       "    </tr>\n",
       "    <tr>\n",
       "      <th>76920</th>\n",
       "      <td>U9996</td>\n",
       "      <td>N28296 N4719 N60340 N31165 N8448 N287 N47098 N...</td>\n",
       "    </tr>\n",
       "    <tr>\n",
       "      <th>62952</th>\n",
       "      <td>U9997</td>\n",
       "      <td>N46759 N46990 N9072 N11727 N50744 N38367 N3333...</td>\n",
       "    </tr>\n",
       "    <tr>\n",
       "      <th>122508</th>\n",
       "      <td>U9999</td>\n",
       "      <td>N64503 N20039 N447 N10865 N59026 N12972 N25577...</td>\n",
       "    </tr>\n",
       "  </tbody>\n",
       "</table>\n",
       "<p>49108 rows × 2 columns</p>\n",
       "</div>"
      ],
      "text/plain": [
       "       User ID                                      Read Articles\n",
       "107690    U100  N20121 N33998 N45954 N55743 N50095 N18870 N534...\n",
       "46639    U1000     N29641 N1789 N41244 N29739 N7670 N58656 N53875\n",
       "60202   U10001  N47937 N51706 N56447 N61319 N27644 N18030 N272...\n",
       "46692   U10003  N39074 N26619 N31431 N1282 N61052 N41668 N5083...\n",
       "46854   U10008  N23912 N30148 N46754 N33117 N9619 N36526 N4449...\n",
       "...        ...                                                ...\n",
       "142654   U9993                        N47458 N14114 N22257 N30648\n",
       "104405   U9995  N61471 N61704 N49103 N63554 N44399 N32117 N218...\n",
       "76920    U9996  N28296 N4719 N60340 N31165 N8448 N287 N47098 N...\n",
       "62952    U9997  N46759 N46990 N9072 N11727 N50744 N38367 N3333...\n",
       "122508   U9999  N64503 N20039 N447 N10865 N59026 N12972 N25577...\n",
       "\n",
       "[49108 rows x 2 columns]"
      ]
     },
     "execution_count": 18,
     "metadata": {},
     "output_type": "execute_result"
    }
   ],
   "source": [
    "mind.user_data"
   ]
  },
  {
   "cell_type": "code",
   "execution_count": null,
   "id": "78c0b250",
   "metadata": {},
   "outputs": [],
   "source": []
  }
 ],
 "metadata": {
  "kernelspec": {
   "display_name": "Python 3",
   "language": "python",
   "name": "python3"
  },
  "language_info": {
   "codemirror_mode": {
    "name": "ipython",
    "version": 3
   },
   "file_extension": ".py",
   "mimetype": "text/x-python",
   "name": "python",
   "nbconvert_exporter": "python",
   "pygments_lexer": "ipython3",
   "version": "3.7.9"
  }
 },
 "nbformat": 4,
 "nbformat_minor": 5
}
