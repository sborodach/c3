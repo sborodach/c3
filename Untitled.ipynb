{
 "cells": [
  {
   "cell_type": "code",
   "execution_count": 2,
   "id": "05f8067a",
   "metadata": {},
   "outputs": [],
   "source": [
    "from src.feature_matrix import CreateFeatureMatrix\n",
    "import pandas as pd"
   ]
  },
  {
   "cell_type": "code",
   "execution_count": 4,
   "id": "e0189a5a",
   "metadata": {},
   "outputs": [],
   "source": [
    "data = ['This is a tool for building a content recommender',\n",
    "        'Content recommenders can be challenging to evaluate',\n",
    "        'Sports readers typically enjoy sports recommendations',\n",
    "       'MIND is a userful dataset for studying recommender',\n",
    "       'medium.com is difficult to scrape from']\n",
    "create = CreateFeatureMatrix(data, MIND=False, n_components=2)"
   ]
  },
  {
   "cell_type": "code",
   "execution_count": null,
   "id": "e108322e",
   "metadata": {},
   "outputs": [],
   "source": []
  },
  {
   "cell_type": "code",
   "execution_count": 5,
   "id": "1d3bc5bf",
   "metadata": {},
   "outputs": [],
   "source": [
    "create.featurize()"
   ]
  },
  {
   "cell_type": "code",
   "execution_count": 6,
   "id": "0ee446d0",
   "metadata": {},
   "outputs": [
    {
     "data": {
      "text/plain": [
       "array([[0.49996628, 0.50003372],\n",
       "       [0.25936291, 0.74063709],\n",
       "       [0.5       , 0.5       ],\n",
       "       [0.7406295 , 0.2593705 ],\n",
       "       [0.5       , 0.5       ]])"
      ]
     },
     "execution_count": 6,
     "metadata": {},
     "output_type": "execute_result"
    }
   ],
   "source": [
    "create.feature_matrix"
   ]
  },
  {
   "cell_type": "code",
   "execution_count": null,
   "id": "ef9df42b",
   "metadata": {},
   "outputs": [],
   "source": [
    "pd.DataFrame()"
   ]
  }
 ],
 "metadata": {
  "kernelspec": {
   "display_name": "Python 3",
   "language": "python",
   "name": "python3"
  },
  "language_info": {
   "codemirror_mode": {
    "name": "ipython",
    "version": 3
   },
   "file_extension": ".py",
   "mimetype": "text/x-python",
   "name": "python",
   "nbconvert_exporter": "python",
   "pygments_lexer": "ipython3",
   "version": "3.7.9"
  }
 },
 "nbformat": 4,
 "nbformat_minor": 5
}
