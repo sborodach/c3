{
 "cells": [
  {
   "cell_type": "code",
   "execution_count": 1,
   "id": "13193241",
   "metadata": {},
   "outputs": [],
   "source": [
    "import pandas as pd\n",
    "from src.mind import SmallData,CreateFeatureMatrix, ContentRecommender"
   ]
  },
  {
   "cell_type": "code",
   "execution_count": 2,
   "id": "b33c48ff",
   "metadata": {},
   "outputs": [],
   "source": [
    "news_data = pd.read_csv('../data/news_fresh.csv')\n",
    "user_data = pd.read_csv('../data/user_data.csv')\n",
    "feature_matrix = pd.read_csv('../data/LDA_matrix.csv')\n",
    "recommender = ContentRecommender(news_data, user_data, feature_matrix)"
   ]
  },
  {
   "cell_type": "code",
   "execution_count": 3,
   "id": "0fde5566",
   "metadata": {
    "tags": []
   },
   "outputs": [
    {
     "name": "stdout",
     "output_type": "stream",
     "text": [
      "We found you have strong interests in [[2.28898750e+04 1.74186213e-01 3.34794859e-02 8.57049367e-02\n",
      "  8.88588578e-02 2.22486608e-02 8.67432710e-03 3.74326956e-02\n",
      "  6.29552176e-02 9.27441774e-02 9.86953038e-04 4.73762542e-02\n",
      "  5.26163506e-02 1.94215804e-01 5.17947337e-02 4.67253319e-02]], we recommend the following articles: \n",
      "+----+-----------------------------------------------------------------------------------------------------------------------------------------+\n",
      "|    | Title                                                                                                                                   |\n",
      "+----+-----------------------------------------------------------------------------------------------------------------------------------------+\n",
      "| 1  | New details, names released in incident where man fell from upper deck at Jack Trice Stadium                                            |\n",
      "| 2  | Bode Miller delivered his twin boys after midwife didn't make it time for the birth                                                     |\n",
      "| 3  | It's a girl! Jose's wife Nina announces she's pregnant with daughter No. 2                                                              |\n",
      "| 4  | Iowa State football: Man fell from upper deck after reacting to big play, fans tell police                                              |\n",
      "| 5  | Video: Voting opens on first 'The Voice' Season 17 Live Playoffs and Oklahoma singer Gracee Shriver beautifully croons 'American Honey' |\n",
      "| 6  | Why did Giants hire Gabe Kapler? Gut feeling beat out hard truths                                                                       |\n",
      "| 7  | Questions Surround Kapler's Handling Of Sexual Assault Allegations Against Dodgers Players                                              |\n",
      "| 8  | Oklahoma City firefighter sets world record for bench press                                                                             |\n",
      "| 9  | 65 years after a Boy Scout saves another scout's life, he never knew he had this coming                                                 |\n",
      "| 10 | The Carolina Hurricanes Fan Ice Cream Theft Had to Be Staged                                                                            |\n",
      "+----+-----------------------------------------------------------------------------------------------------------------------------------------+\n"
     ]
    }
   ],
   "source": [
    "recommender.recommend('U100')"
   ]
  },
  {
   "cell_type": "code",
   "execution_count": null,
   "id": "d5445e63",
   "metadata": {},
   "outputs": [],
   "source": []
  },
  {
   "cell_type": "code",
   "execution_count": null,
   "id": "41a1299b",
   "metadata": {},
   "outputs": [],
   "source": []
  },
  {
   "cell_type": "code",
   "execution_count": null,
   "id": "48491574",
   "metadata": {},
   "outputs": [],
   "source": []
  }
 ],
 "metadata": {
  "kernelspec": {
   "display_name": "Python 3",
   "language": "python",
   "name": "python3"
  },
  "language_info": {
   "codemirror_mode": {
    "name": "ipython",
    "version": 3
   },
   "file_extension": ".py",
   "mimetype": "text/x-python",
   "name": "python",
   "nbconvert_exporter": "python",
   "pygments_lexer": "ipython3",
   "version": "3.7.9"
  }
 },
 "nbformat": 4,
 "nbformat_minor": 5
}
