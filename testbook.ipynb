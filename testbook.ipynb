{
 "cells": [
  {
   "cell_type": "code",
   "execution_count": 1,
   "id": "a652a84a",
   "metadata": {
    "tags": []
   },
   "outputs": [],
   "source": [
    "from src.recommender import ContentRecommender\n",
    "from src.MIND import MINDSmallData\n",
    "from src.feature_matrix import CreateFeatureMatrix\n",
    "import pandas as pd\n",
    "import numpy as np\n",
    "\n",
    "from warnings import simplefilter\n",
    "simplefilter(action='ignore', category=FutureWarning) # ignore all future warnings"
   ]
  },
  {
   "cell_type": "code",
   "execution_count": null,
   "id": "77257d36",
   "metadata": {},
   "outputs": [],
   "source": [
    "news_data = pd.read_csv('data/news_fresh.csv').drop('Unnamed: 0', axis=1)"
   ]
  },
  {
   "cell_type": "code",
   "execution_count": null,
   "id": "65e82637",
   "metadata": {
    "tags": []
   },
   "outputs": [],
   "source": [
    "user_data = pd.read_csv('data/user_data.csv').drop('Unnamed: 0', axis=1)"
   ]
  },
  {
   "cell_type": "code",
   "execution_count": 8,
   "id": "9a9a45d1",
   "metadata": {},
   "outputs": [],
   "source": [
    "feature_matrix = pd.read_csv('data/LDA_.csv').drop('Unnamed: 0', axis=1)"
   ]
  },
  {
   "cell_type": "code",
   "execution_count": 9,
   "id": "d0aca1d8",
   "metadata": {
    "tags": []
   },
   "outputs": [],
   "source": [
    "recommender = ContentRecommender(news_data, user_data, feature_matrix)"
   ]
  },
  {
   "cell_type": "code",
   "execution_count": null,
   "id": "497554b1",
   "metadata": {},
   "outputs": [
    {
     "name": "stdout",
     "output_type": "stream",
     "text": [
      "+-------+----------+---+\n",
      "| topic | Interest | # |\n",
      "+-------+----------+---+\n",
      "|  News |    H     | 9 |\n",
      "+-------+----------+---+\n",
      "\n",
      "\n",
      "+-----------+----------+----+\n",
      "|   topic   | Interest | #  |\n",
      "+-----------+----------+----+\n",
      "|    News   |    H     | 12 |\n",
      "| Lifestyle |    L     | 2  |\n",
      "|  Finance  |    L     | 0  |\n",
      "+-----------+----------+----+\n",
      "\n",
      "\n",
      "+--------+----------+----+\n",
      "| topic  | Interest | #  |\n",
      "+--------+----------+----+\n",
      "|  News  |    H     | 18 |\n",
      "| Sports |    L     | 1  |\n",
      "+--------+----------+----+\n",
      "\n",
      "\n",
      "+-------+----------+----+\n",
      "| topic | Interest | #  |\n",
      "+-------+----------+----+\n",
      "|  News |    H     | 14 |\n",
      "+-------+----------+----+\n",
      "\n",
      "\n",
      "+-----------+----------+----+\n",
      "|   topic   | Interest | #  |\n",
      "+-----------+----------+----+\n",
      "|    News   |    H     | 16 |\n",
      "|   Sports  |    L     | 1  |\n",
      "| Lifestyle |    L     | 0  |\n",
      "+-----------+----------+----+\n",
      "\n",
      "\n",
      "+-------+----------+----+\n",
      "| topic | Interest | #  |\n",
      "+-------+----------+----+\n",
      "|  News |    H     | 18 |\n",
      "+-------+----------+----+\n",
      "\n",
      "\n",
      "+-------+----------+----+\n",
      "| topic | Interest | #  |\n",
      "+-------+----------+----+\n",
      "|  News |    H     | 13 |\n",
      "+-------+----------+----+\n",
      "\n",
      "\n",
      "+-----------+----------+---+\n",
      "|   topic   | Interest | # |\n",
      "+-----------+----------+---+\n",
      "|    News   |    H     | 9 |\n",
      "| Lifestyle |    L     | 1 |\n",
      "+-----------+----------+---+\n",
      "\n",
      "\n",
      "+-----------+----------+----+\n",
      "|   topic   | Interest | #  |\n",
      "+-----------+----------+----+\n",
      "|    News   |    H     | 11 |\n",
      "|  Finance  |    L     | 1  |\n",
      "| Lifestyle |    L     | 1  |\n",
      "+-----------+----------+----+\n",
      "\n",
      "\n",
      "+-------+----------+----+\n",
      "| topic | Interest | #  |\n",
      "+-------+----------+----+\n",
      "|  News |    H     | 17 |\n",
      "|  Cars |    L     | 0  |\n",
      "+-------+----------+----+\n",
      "\n",
      "\n",
      "+---------+----------+----+\n",
      "|  topic  | Interest | #  |\n",
      "+---------+----------+----+\n",
      "|   News  |    H     | 16 |\n",
      "|  Sports |    L     | 0  |\n",
      "| Finance |    L     | 1  |\n",
      "+---------+----------+----+\n",
      "\n",
      "\n"
     ]
    }
   ],
   "source": [
    "recommender.evaulate_user(num_users=100)"
   ]
  }
 ],
 "metadata": {
  "kernelspec": {
   "display_name": "Python 3",
   "language": "python",
   "name": "python3"
  },
  "language_info": {
   "codemirror_mode": {
    "name": "ipython",
    "version": 3
   },
   "file_extension": ".py",
   "mimetype": "text/x-python",
   "name": "python",
   "nbconvert_exporter": "python",
   "pygments_lexer": "ipython3",
   "version": "3.7.9"
  }
 },
 "nbformat": 4,
 "nbformat_minor": 5
}
