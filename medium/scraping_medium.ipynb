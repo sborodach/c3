{
 "cells": [
  {
   "cell_type": "code",
   "execution_count": null,
   "id": "9dd29f28",
   "metadata": {},
   "outputs": [],
   "source": [
    "urls = {\n",
    "    'Towards Data Science': 'https://towardsdatascience.com/archive/{0}/{1:02d}/{2:02d}',\n",
    "    'UX Collective': 'https://uxdesign.cc/archive/{0}/{1:02d}/{2:02d}',\n",
    "    'The Startup': 'https://medium.com/swlh/archive/{0}/{1:02d}/{2:02d}',\n",
    "    'The Writing Cooperative': 'https://writingcooperative.com/archive/{0}/{1:02d}/{2:02d}',\n",
    "    'Data Driven Investor': 'https://medium.com/datadriveninvestor/archive/{0}/{1:02d}/{2:02d}',\n",
    "    'Better Humans': 'https://medium.com/better-humans/archive/{0}/{1:02d}/{2:02d}',\n",
    "    'Better Marketing': 'https://medium.com/better-marketing/archive/{0}/{1:02d}/{2:02d}',\n",
    "}"
   ]
  },
  {
   "cell_type": "code",
   "execution_count": null,
   "id": "2b9c12f9",
   "metadata": {},
   "outputs": [],
   "source": [
    "urls = {\n",
    "    'Better Humans': 'https://medium.com/better-humans/archive/{0}/{1:02d}/{2:02d}',\n",
    "    'Personal Growth': 'https://medium.com/personal-growth/archive/{0}/{1:02d}/{2:02d}',\n",
    "    'PS I Love You': 'https://psiloveyou.xyz/archive/{0}/{1:02d}/{2:02d}',\n",
    "    'The Ascent': 'https://medium.com/the-ascent/archive/{0}/{1:02d}/{2:02d}',\n",
    "    'Be Yourself': 'https://byrslf.co/archive/{0}/{1:02d}/{2:02d}',    \n",
    "\n",
    "}"
   ]
  },
  {
   "cell_type": "code",
   "execution_count": null,
   "id": "e3a85920",
   "metadata": {
    "tags": []
   },
   "outputs": [],
   "source": [
    "data = []\n",
    "article_id = 0\n",
    "year = 2019\n",
    "i = 0\n",
    "selected_days=range(1,366)\n",
    "n = len(selected_days)\n",
    "for d in selected_days:\n",
    "    i += 1\n",
    "    month, day = convert_day(d)\n",
    "    date = '{0}-{1:02d}-{2:02d}'.format(year, month, day)\n",
    "    print(f'{i} / {n} ; {date}')\n",
    "    for publication, url in urls.items():\n",
    "        response = requests.get(url.format(year, month, day), allow_redirects=True)\n",
    "        if not response.url.startswith(url.format(year, month, day)):\n",
    "            continue\n",
    "        page = response.content\n",
    "        soup = BeautifulSoup(page, 'html.parser')\n",
    "        articles = soup.find_all(\n",
    "            \"div\",\n",
    "            class_=\"postArticle postArticle--short js-postArticle js-trackPostPresentation js-trackPostScrolls\")\n",
    "        for article in articles:\n",
    "            title = article.find(\"h3\", class_=\"graf--title\")\n",
    "            if title is None:\n",
    "                continue\n",
    "            title = title.contents[0]\n",
    "            article_id += 1\n",
    "            subtitle = article.find(\"h4\", class_=\"graf--subtitle\")\n",
    "            subtitle = subtitle.contents[0] if subtitle is not None else ''\n",
    "            image = article.find(\"img\", class_=\"graf-image\")\n",
    "            image = '' if image is None else get_img(image['src'], 'images', f'{article_id}')\n",
    "            article_url = article.find_all(\"a\")[3]['href'].split('?')[0]\n",
    "            claps = get_claps(article.find_all(\"button\")[1].contents[0])\n",
    "            reading_time = article.find(\"span\", class_=\"readingTime\")\n",
    "            reading_time = 0 if reading_time is None else int(reading_time['title'].split(' ')[0])\n",
    "            responses = article.find_all(\"a\")\n",
    "            if len(responses) == 7:\n",
    "                responses = responses[6].contents[0].split(' ')\n",
    "                if len(responses) == 0:\n",
    "                    responses = 0\n",
    "                else:\n",
    "                    responses = responses[0]\n",
    "            else:\n",
    "                responses = 0\n",
    "\n",
    "            data.append([article_id, article_url, title,\n",
    "                         subtitle, image, claps, responses,\n",
    "                         reading_time, publication, date])"
   ]
  },
  {
   "cell_type": "code",
   "execution_count": null,
   "id": "ae49dabc",
   "metadata": {},
   "outputs": [],
   "source": []
  },
  {
   "cell_type": "code",
   "execution_count": null,
   "id": "0ee383e5",
   "metadata": {},
   "outputs": [],
   "source": []
  },
  {
   "cell_type": "code",
   "execution_count": null,
   "id": "abb176c5",
   "metadata": {},
   "outputs": [],
   "source": [
    "import time\n",
    "\n",
    "from bs4 import BeautifulSoup\n",
    "from selenium import webdriver\n",
    "\n",
    "driver = webdriver.Chrome()\n",
    "driver.implicitly_wait(30)\n",
    "\n",
    "try:\n",
    "    SCROLL_PAUSE_TIME = 5\n",
    "    driver.get(\"https://medium.com/search?q=health\")\n",
    "\n",
    "    last_height = driver.execute_script(\"return document.body.scrollHeight\")\n",
    "    \n",
    "    while True:\n",
    "        driver.execute_script(\"window.scrollTo(0, document.body.scrollHeight);\")\n",
    "        time.sleep(SCROLL_PAUSE_TIME)\n",
    "        new_height = driver.execute_script(\"return document.body.scrollHeight\")\n",
    "        print(new_height), print(last_height)\n",
    "        if new_height == last_height:\n",
    "            break\n",
    "        last_height = new_height\n",
    "\n",
    "    soup = BeautifulSoup(driver.page_source, \"html.parser\")\n",
    "    soup.find_all('a', {'data-action':'open-post'}, href=True)\n",
    "\n",
    "finally:\n",
    "    driver.quit()"
   ]
  },
  {
   "cell_type": "code",
   "execution_count": null,
   "id": "55acae0b",
   "metadata": {},
   "outputs": [],
   "source": [
    "soup.find_all('a', {'data-action':'open-post'}, href=True)\n",
    "z = set()\n",
    "for a in soup.find_all('a', {'data-action':'open-post'}, href=True):\n",
    "    z.add(a['href'])"
   ]
  }
 ],
 "metadata": {
  "kernelspec": {
   "display_name": "Python 3",
   "language": "python",
   "name": "python3"
  },
  "language_info": {
   "codemirror_mode": {
    "name": "ipython",
    "version": 3
   },
   "file_extension": ".py",
   "mimetype": "text/x-python",
   "name": "python",
   "nbconvert_exporter": "python",
   "pygments_lexer": "ipython3",
   "version": "3.7.9"
  }
 },
 "nbformat": 4,
 "nbformat_minor": 5
}
